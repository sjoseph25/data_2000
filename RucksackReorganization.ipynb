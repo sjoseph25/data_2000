{
  "nbformat": 4,
  "nbformat_minor": 0,
  "metadata": {
    "colab": {
      "provenance": [],
      "authorship_tag": "ABX9TyNZO3o84N2253/Fyq6BVtTN",
      "include_colab_link": true
    },
    "kernelspec": {
      "name": "python3",
      "display_name": "Python 3"
    },
    "language_info": {
      "name": "python"
    }
  },
  "cells": [
    {
      "cell_type": "markdown",
      "metadata": {
        "id": "view-in-github",
        "colab_type": "text"
      },
      "source": [
        "<a href=\"https://colab.research.google.com/github/sjoseph25/data_2000/blob/main/RucksackReorganization.ipynb\" target=\"_parent\"><img src=\"https://colab.research.google.com/assets/colab-badge.svg\" alt=\"Open In Colab\"/></a>"
      ]
    },
    {
      "cell_type": "code",
      "source": [
        "with open('rucksack-input','r') as f:\n",
        "  rucksacks = f.readlines()\n",
        "\n",
        "rucksacks[0:10]"
      ],
      "metadata": {
        "colab": {
          "base_uri": "https://localhost:8080/"
        },
        "id": "MeujmoYhNEBV",
        "outputId": "9ea79d7d-4f07-4f0f-db0c-a2ce2f8890ff"
      },
      "execution_count": 11,
      "outputs": [
        {
          "output_type": "execute_result",
          "data": {
            "text/plain": [
              "['lDDWVvlVVQfDMlWjGJTRjQCgTGLCLj\\n',\n",
              " 'ZLZpwzLBhwZhSLBsjntGCtgJRjbnJgSG\\n',\n",
              " 'qppdZzzsdsmZphrNsNwZhllDHLcVVDWFPvFWcWdFlv\\n',\n",
              " 'ztdhgJDBJghmQtPFQPpmbw\\n',\n",
              " 'lVlLRcnfllcfVcccGnSQVLcsTPFbpwsPFspTSqmbpswpbF\\n',\n",
              " 'cCHRGcGcCRGlGrGcVGnrdWHWBDzBNhhQZWWNBhJz\\n',\n",
              " 'NfnSSQpdnRSSpvWdSsjZDGNDjGDwTGTjHG\\n',\n",
              " 'wlPzPqzPFbMmqPCFCJmbsjbHLDDHDZjDjbGHsT\\n',\n",
              " 'gwMlgmtmPcqVVvhVnvcRnn\\n',\n",
              " 'cBNBBCHhbhNhblBcCCvcBHSwTwDQSqRwDQpDRsjHST\\n']"
            ]
          },
          "metadata": {},
          "execution_count": 11
        }
      ]
    },
    {
      "cell_type": "code",
      "source": [
        "list_rucksacks = []\n",
        "for line in rucksacks:\n",
        "  list_rucksacks.append(line.strip())\n",
        "\n",
        "list_rucksacks[0:10]"
      ],
      "metadata": {
        "colab": {
          "base_uri": "https://localhost:8080/"
        },
        "id": "YUMoOqt1NEvi",
        "outputId": "a9cb65d6-5134-4263-a49a-b3a0fe16c2af"
      },
      "execution_count": 12,
      "outputs": [
        {
          "output_type": "execute_result",
          "data": {
            "text/plain": [
              "['lDDWVvlVVQfDMlWjGJTRjQCgTGLCLj',\n",
              " 'ZLZpwzLBhwZhSLBsjntGCtgJRjbnJgSG',\n",
              " 'qppdZzzsdsmZphrNsNwZhllDHLcVVDWFPvFWcWdFlv',\n",
              " 'ztdhgJDBJghmQtPFQPpmbw',\n",
              " 'lVlLRcnfllcfVcccGnSQVLcsTPFbpwsPFspTSqmbpswpbF',\n",
              " 'cCHRGcGcCRGlGrGcVGnrdWHWBDzBNhhQZWWNBhJz',\n",
              " 'NfnSSQpdnRSSpvWdSsjZDGNDjGDwTGTjHG',\n",
              " 'wlPzPqzPFbMmqPCFCJmbsjbHLDDHDZjDjbGHsT',\n",
              " 'gwMlgmtmPcqVVvhVnvcRnn',\n",
              " 'cBNBBCHhbhNhblBcCCvcBHSwTwDQSqRwDQpDRsjHST']"
            ]
          },
          "metadata": {},
          "execution_count": 12
        }
      ]
    },
    {
      "cell_type": "code",
      "source": [
        "item_types = []\n",
        "for line in list_rucksacks:\n",
        "  first = line[:len(line)//2]\n",
        "  second = line[len(line)//2:]\n",
        "  for i in first:\n",
        "    if i in second:\n",
        "      x = i\n",
        "  item_types.append(x)\n",
        "print(item_types)"
      ],
      "metadata": {
        "colab": {
          "base_uri": "https://localhost:8080/"
        },
        "id": "lYGd2YgogjHE",
        "outputId": "c7dc8bc9-8d9b-4f3b-ab8d-5109e8a7ee49"
      },
      "execution_count": 13,
      "outputs": [
        {
          "output_type": "stream",
          "name": "stdout",
          "text": [
            "['Q', 'S', 'd', 't', 'S', 'H', 'N', 'b', 'c', 'H', 'V', 'G', 'D', 'S', 'P', 'b', 'B', 'd', 'T', 'N', 'z', 'Z', 'D', 'n', 'n', 'l', 'g', 'r', 'S', 'f', 'l', 'h', 'c', 'n', 'J', 'V', 'P', 's', 'p', 'B', 'J', 'S', 'n', 'V', 'j', 'v', 'G', 'P', 'h', 'G', 's', 'J', 'S', 'L', 'D', 'V', 'b', 'l', 'B', 'v', 't', 'Z', 'L', 'N', 't', 'l', 'R', 'G', 'c', 'w', 's', 'V', 'f', 'R', 'j', 'J', 'g', 'd', 'R', 'c', 'w', 'F', 'H', 'G', 'z', 'g', 'L', 'l', 'D', 'Q', 'F', 'z', 'C', 'B', 's', 'H', 'G', 'n', 'S', 'n', 'z', 'w', 'R', 'r', 'g', 'H', 'L', 'f', 'Q', 'r', 'g', 'W', 'n', 'N', 'v', 'L', 'm', 's', 'b', 'F', 'J', 'p', 'j', 's', 'G', 'F', 'M', 'G', 'j', 'b', 'v', 'l', 'L', 'F', 'C', 'w', 'B', 'n', 'w', 'p', 'l', 'h', 'H', 'b', 'g', 'v', 'r', 'j', 'H', 'h', 'v', 'M', 'C', 'b', 't', 'R', 's', 'P', 'Z', 'B', 'r', 'M', 'n', 'D', 'Q', 'D', 'b', 'm', 'm', 'p', 's', 'H', 'N', 'J', 'n', 'Z', 'G', 'f', 'G', 's', 'b', 'S', 'F', 'N', 'W', 'r', 'h', 'g', 'T', 'G', 'W', 'p', 'n', 'm', 'T', 'P', 'n', 'R', 'p', 'z', 'f', 'C', 'F', 'w', 'V', 'd', 'H', 'V', 'S', 'Z', 'z', 'P', 'G', 'C', 'G', 't', 'w', 'J', 's', 'N', 'n', 'S', 'J', 'F', 'D', 'H', 'w', 'P', 'r', 'F', 'H', 's', 'F', 'j', 'Z', 'j', 'D', 'r', 'v', 's', 'm', 'P', 'w', 'V', 'D', 'r', 'W', 'v', 'c', 't', 'V', 'W', 'Q', 'f', 'S', 'm', 'd', 'T', 'G', 'q', 'm', 'T', 'v', 't', 'h', 'Q', 'q', 'R', 'n', 'd', 'g', 't', 'R', 'Z', 'M', 'D', 'W', 'g', 'F', 'Z', 'j', 'G', 'S', 'j', 'T', 'D', 'w', 'S', 'z', 'm', 't', 'm', 'b', 'q', 'P', 'v', 'N', 'g', 'M', 'F']\n"
          ]
        }
      ]
    },
    {
      "cell_type": "code",
      "source": [
        "priority = 0\n",
        "sum_priority = 0\n",
        "\n",
        "type_list = ['a','b','c','d','e','f','g','h','i','j','k','l','m','n','o','p','q','r','s','t','u','v','w','x','y','y',\n",
        "               'A','B','C','D','E','F','G','H','I','J','K','L','M','N','O','P','Q','R','S','T','U','V','W','X','Y','Y']\n",
        "for j in type_list:\n",
        "  priority += 1\n",
        "  if j in item_types:\n",
        "    sum_priority += priority\n",
        "\n",
        "print(sum_priority)"
      ],
      "metadata": {
        "id": "sQd-7xDIghcs",
        "colab": {
          "base_uri": "https://localhost:8080/"
        },
        "outputId": "b9f593fe-84b2-43ea-dc0b-0f6d7009bc47"
      },
      "execution_count": 14,
      "outputs": [
        {
          "output_type": "stream",
          "name": "stdout",
          "text": [
            "870\n"
          ]
        }
      ]
    },
    {
      "cell_type": "code",
      "source": [
        "badges = []\n",
        "\n",
        "start = 0\n",
        "end = len(list_rucksacks)\n",
        "step = 3\n",
        "for k in range(start, end, step):\n",
        "    x = k\n",
        "    group = list_rucksacks[x:x+step]\n",
        "    for b in group[0]:\n",
        "      if b in group[1]:\n",
        "        if b in group[2]:\n",
        "          y = b\n",
        "    badges.append(y)\n",
        "\n",
        "print(badges)"
      ],
      "metadata": {
        "colab": {
          "base_uri": "https://localhost:8080/"
        },
        "id": "DceLATehtYZJ",
        "outputId": "439fa071-5919-467b-aa32-83835f065ac6"
      },
      "execution_count": 16,
      "outputs": [
        {
          "output_type": "stream",
          "name": "stdout",
          "text": [
            "['L', 'Q', 'w', 'q', 'Z', 'T', 'J', 'l', 'G', 'w', 'j', 'm', 'l', 'n', 'g', 'q', 'n', 'H', 'c', 'n', 'H', 'V', 'w', 'b', 'F', 'W', 'm', 'v', 'W', 'Z', 'Z', 'J', 'q', 's', 'm', 'g', 'v', 'q', 'f', 'v', 'R', 'r', 'H', 's', 'B', 'z', 'S', 'M', 'C', 'c', 't', 'p', 'q', 'm', 'd', 'r', 'b', 'D', 'V', 'H', 'p', 'C', 'H', 'T', 'Z', 's', 'R', 'R', 'l', 'C', 'd', 'Q', 'Q', 'd', 'v', 'S', 'J', 'J', 'M', 'z', 'Q', 'v', 's', 'p', 'W', 'p', 'P', 'm', 'P', 'B', 'F', 'm', 'T', 'd', 'Q', 'B', 'J', 'r', 'Z', 'V']\n"
          ]
        }
      ]
    },
    {
      "cell_type": "code",
      "source": [
        "priority = 0\n",
        "sum_priority = 0\n",
        "for l in type_list:\n",
        "  priority += 1\n",
        "  if l in badges:\n",
        "    sum_priority += priority\n",
        "\n",
        "print(sum_priority)"
      ],
      "metadata": {
        "colab": {
          "base_uri": "https://localhost:8080/"
        },
        "id": "H5fi4nVUyPGY",
        "outputId": "ed3e2900-2bc0-4967-a236-0735db93305c"
      },
      "execution_count": 17,
      "outputs": [
        {
          "output_type": "stream",
          "name": "stdout",
          "text": [
            "822\n"
          ]
        }
      ]
    },
    {
      "cell_type": "code",
      "source": [],
      "metadata": {
        "id": "kKQhDOVk0LmG"
      },
      "execution_count": 17,
      "outputs": []
    }
  ]
}